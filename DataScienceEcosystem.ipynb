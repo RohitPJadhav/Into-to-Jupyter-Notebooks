{
 "cells": [
  {
   "cell_type": "markdown",
   "id": "206b6192",
   "metadata": {},
   "source": [
    "# Data Science Tools and Ecosystem"
   ]
  },
  {
   "cell_type": "markdown",
   "id": "b697fbb0",
   "metadata": {},
   "source": [
    "## Introduction\n",
    "\n",
    "In this notebook, Data Science Tools and Ecosystem are summarized."
   ]
  },
  {
   "cell_type": "markdown",
   "id": "7aeed0ed",
   "metadata": {},
   "source": [
    "## Data Science Languages\n",
    "  <p>Some of the popular languages that Data Scientists use are:</p>\n",
    "<ol>\n",
    "  <li>Python</li>\n",
    "  <li>R</li>\n",
    "  <li>SQL</li>\n",
    "</ol>"
   ]
  },
  {
   "cell_type": "markdown",
   "id": "97b0a74f",
   "metadata": {
    "ExecuteTime": {
     "end_time": "2023-04-23T17:35:00.251937Z",
     "start_time": "2023-04-23T17:35:00.233026Z"
    }
   },
   "source": [
    "## Data Science Libraries\n",
    "  <p>Some of the commonly used libraries used by Data Scientists include:</p>\n",
    "<ol>\n",
    "  <li>Pandas</li>\n",
    "  <li>Scikit-Learn</li>\n",
    "  <li>Scipy</li>\n",
    "</ol>"
   ]
  },
  {
   "cell_type": "markdown",
   "id": "d3277d5a",
   "metadata": {},
   "source": [
    "## Table of Data Science Tools\n",
    "<table>\n",
    "  <tr>\n",
    "    <th>Data Science Tools</th>\n",
    "  </tr>\n",
    "  <tr>\n",
    "    <td>Jupyter Notebook</td>\n",
    "  </tr>\n",
    "  <tr>\n",
    "    <td>R Studio</td>\n",
    "  </tr>\n",
    "  <tr>\n",
    "    <td>Tableu</td>\n",
    "  </tr>\n",
    "</table>"
   ]
  },
  {
   "cell_type": "markdown",
   "id": "0fa01bd7",
   "metadata": {},
   "source": [
    "## Arithmetic expression examples\n",
    "### Below are a few examples of evaluating arithmetic expressions in Python"
   ]
  },
  {
   "cell_type": "code",
   "execution_count": 9,
   "id": "41bc0dfd",
   "metadata": {
    "ExecuteTime": {
     "end_time": "2023-04-23T17:47:03.534807Z",
     "start_time": "2023-04-23T17:47:03.521201Z"
    }
   },
   "outputs": [
    {
     "data": {
      "text/plain": [
       "17"
      ]
     },
     "execution_count": 9,
     "metadata": {},
     "output_type": "execute_result"
    }
   ],
   "source": [
    "#This a simple arithmetic expression to mutiply then add integers\n",
    "(3*4)+5"
   ]
  },
  {
   "cell_type": "code",
   "execution_count": 10,
   "id": "5a45f73e",
   "metadata": {
    "ExecuteTime": {
     "end_time": "2023-04-23T17:47:03.734664Z",
     "start_time": "2023-04-23T17:47:03.723008Z"
    }
   },
   "outputs": [
    {
     "name": "stdout",
     "output_type": "stream",
     "text": [
      "200 mins = 3.33 hours\n"
     ]
    }
   ],
   "source": [
    "#This will convert minutes to hours by diving by 60\n",
    "x = lambda a : a/60\n",
    "mins = 200\n",
    "hour = x(mins)\n",
    "print('{} mins = {:.2f} hours'.format(mins,hour))"
   ]
  },
  {
   "cell_type": "markdown",
   "id": "13852183",
   "metadata": {},
   "source": [
    "## Objectives:"
   ]
  },
  {
   "cell_type": "markdown",
   "id": "63e0160a",
   "metadata": {},
   "source": [
    "List of popular languages for Data Science\n",
    "<ul>\n",
    "  <li>Python</li>\n",
    "  <li>R</li>\n",
    "  <li>SQL</li>\n",
    "</ul>"
   ]
  },
  {
   "cell_type": "markdown",
   "id": "352044b6",
   "metadata": {},
   "source": [
    "## Author\n",
    "Rohit Jadhav"
   ]
  }
 ],
 "metadata": {
  "kernelspec": {
   "display_name": "Python 3",
   "language": "python",
   "name": "python3"
  },
  "language_info": {
   "codemirror_mode": {
    "name": "ipython",
    "version": 3
   },
   "file_extension": ".py",
   "mimetype": "text/x-python",
   "name": "python",
   "nbconvert_exporter": "python",
   "pygments_lexer": "ipython3",
   "version": "3.8.8"
  },
  "notify_time": "5",
  "toc": {
   "base_numbering": 1,
   "nav_menu": {},
   "number_sections": true,
   "sideBar": true,
   "skip_h1_title": true,
   "title_cell": "Table of Contents",
   "title_sidebar": "Contents",
   "toc_cell": false,
   "toc_position": {
    "height": "calc(100% - 180px)",
    "left": "10px",
    "top": "150px",
    "width": "303.8px"
   },
   "toc_section_display": true,
   "toc_window_display": true
  },
  "varInspector": {
   "cols": {
    "lenName": 16,
    "lenType": 16,
    "lenVar": 40
   },
   "kernels_config": {
    "python": {
     "delete_cmd_postfix": "",
     "delete_cmd_prefix": "del ",
     "library": "var_list.py",
     "varRefreshCmd": "print(var_dic_list())"
    },
    "r": {
     "delete_cmd_postfix": ") ",
     "delete_cmd_prefix": "rm(",
     "library": "var_list.r",
     "varRefreshCmd": "cat(var_dic_list()) "
    }
   },
   "types_to_exclude": [
    "module",
    "function",
    "builtin_function_or_method",
    "instance",
    "_Feature"
   ],
   "window_display": false
  }
 },
 "nbformat": 4,
 "nbformat_minor": 5
}
